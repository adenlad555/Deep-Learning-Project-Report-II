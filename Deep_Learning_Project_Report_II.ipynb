{
  "nbformat": 4,
  "nbformat_minor": 0,
  "metadata": {
    "colab": {
      "provenance": []
    },
    "kernelspec": {
      "name": "python3",
      "display_name": "Python 3"
    },
    "language_info": {
      "name": "python"
    }
  },
  "cells": [
    {
      "cell_type": "markdown",
      "source": [
        "## **Importing the libraries**"
      ],
      "metadata": {
        "id": "LfTxQ1RWaklf"
      }
    },
    {
      "cell_type": "code",
      "source": [
        "#Importing the necessary libraries and modules for building models.\n",
        "#Also using tensorflow and keras.\n",
        "\n",
        "import pandas as pd\n",
        "import numpy as np\n",
        "import matplotlib.pyplot as plt\n",
        "from sklearn.model_selection import train_test_split\n",
        "from sklearn.preprocessing import LabelEncoder\n",
        "from sklearn.metrics import accuracy_score\n",
        "from tensorflow.keras.models import Sequential\n",
        "from tensorflow.keras.layers import Embedding, Conv1D, MaxPooling1D, LSTM, Dense\n",
        "from tensorflow.keras.preprocessing.text import Tokenizer\n",
        "from tensorflow.keras.preprocessing.sequence import pad_sequences"
      ],
      "metadata": {
        "id": "dLH91yxSUUX1"
      },
      "execution_count": null,
      "outputs": []
    },
    {
      "cell_type": "markdown",
      "source": [
        "## **Importing the dataset**"
      ],
      "metadata": {
        "id": "Y3Yn-qazbGOM"
      }
    },
    {
      "cell_type": "code",
      "source": [
        "#Reading a CSV file named \"laser eye surgery complications\" using pandas.\n",
        "#Assigning it to a variable called \"df\" \n",
        "\n",
        "df = pd.read_csv(\"/content/laser_eye_surgery_complications.csv\")"
      ],
      "metadata": {
        "id": "UjNKdHofa7R-"
      },
      "execution_count": null,
      "outputs": []
    },
    {
      "cell_type": "markdown",
      "source": [
        "## **Reading the dataset**"
      ],
      "metadata": {
        "id": "OMDc2DpZbOrz"
      }
    },
    {
      "cell_type": "code",
      "source": [
        "#This command is used to display the first 10 rows of the DataFrame \"df\".\n",
        "\n",
        "df.head(10)"
      ],
      "metadata": {
        "colab": {
          "base_uri": "https://localhost:8080/",
          "height": 363
        },
        "id": "VjFcbNqmUzT1",
        "outputId": "f3be30cf-1bc6-44ab-85ce-d60a09395f7c"
      },
      "execution_count": null,
      "outputs": [
        {
          "output_type": "execute_result",
          "data": {
            "text/plain": [
              "       id        date                                               text  \\\n",
              "0  101036  16-06-1997  Chiron microkeratome suction popped off during...   \n",
              "1  101032  16-06-1997  Chiron keratome was used to perform a corneal ...   \n",
              "2   98209  16-06-1997  Laser treatment cut pt's eye. As a result, pt ...   \n",
              "3  101211  26-06-1997         Dr. Is using a non-approved laser machine.   \n",
              "4  102312  02-07-1997                  Dr is using a non-approved laser.   \n",
              "5  102880  03-07-1997         A Dr is using an unapproved excimer laser.   \n",
              "6  105949  16-07-1997  Rptr had a total of 5 surgeries to repair visi...   \n",
              "7  106136  17-07-1997          Dr is using a non-approved laser machine.   \n",
              "8  106128  17-07-1997  Pt underwent phototherapeutic keratotomy. Afte...   \n",
              "9  134189  24-10-1997  Co is experiencing a number of pt eye injuries...   \n",
              "\n",
              "                   keywords  \n",
              "0  Flap Issues; Astigmatism  \n",
              "1               Flap Issues  \n",
              "2                       NaN  \n",
              "3                       NaN  \n",
              "4                       NaN  \n",
              "5                       NaN  \n",
              "6                       NaN  \n",
              "7                       NaN  \n",
              "8                       NaN  \n",
              "9                       NaN  "
            ],
            "text/html": [
              "\n",
              "  <div id=\"df-3ccd7c8e-fce2-4861-8d26-e2100a0dfc72\">\n",
              "    <div class=\"colab-df-container\">\n",
              "      <div>\n",
              "<style scoped>\n",
              "    .dataframe tbody tr th:only-of-type {\n",
              "        vertical-align: middle;\n",
              "    }\n",
              "\n",
              "    .dataframe tbody tr th {\n",
              "        vertical-align: top;\n",
              "    }\n",
              "\n",
              "    .dataframe thead th {\n",
              "        text-align: right;\n",
              "    }\n",
              "</style>\n",
              "<table border=\"1\" class=\"dataframe\">\n",
              "  <thead>\n",
              "    <tr style=\"text-align: right;\">\n",
              "      <th></th>\n",
              "      <th>id</th>\n",
              "      <th>date</th>\n",
              "      <th>text</th>\n",
              "      <th>keywords</th>\n",
              "    </tr>\n",
              "  </thead>\n",
              "  <tbody>\n",
              "    <tr>\n",
              "      <th>0</th>\n",
              "      <td>101036</td>\n",
              "      <td>16-06-1997</td>\n",
              "      <td>Chiron microkeratome suction popped off during...</td>\n",
              "      <td>Flap Issues; Astigmatism</td>\n",
              "    </tr>\n",
              "    <tr>\n",
              "      <th>1</th>\n",
              "      <td>101032</td>\n",
              "      <td>16-06-1997</td>\n",
              "      <td>Chiron keratome was used to perform a corneal ...</td>\n",
              "      <td>Flap Issues</td>\n",
              "    </tr>\n",
              "    <tr>\n",
              "      <th>2</th>\n",
              "      <td>98209</td>\n",
              "      <td>16-06-1997</td>\n",
              "      <td>Laser treatment cut pt's eye. As a result, pt ...</td>\n",
              "      <td>NaN</td>\n",
              "    </tr>\n",
              "    <tr>\n",
              "      <th>3</th>\n",
              "      <td>101211</td>\n",
              "      <td>26-06-1997</td>\n",
              "      <td>Dr. Is using a non-approved laser machine.</td>\n",
              "      <td>NaN</td>\n",
              "    </tr>\n",
              "    <tr>\n",
              "      <th>4</th>\n",
              "      <td>102312</td>\n",
              "      <td>02-07-1997</td>\n",
              "      <td>Dr is using a non-approved laser.</td>\n",
              "      <td>NaN</td>\n",
              "    </tr>\n",
              "    <tr>\n",
              "      <th>5</th>\n",
              "      <td>102880</td>\n",
              "      <td>03-07-1997</td>\n",
              "      <td>A Dr is using an unapproved excimer laser.</td>\n",
              "      <td>NaN</td>\n",
              "    </tr>\n",
              "    <tr>\n",
              "      <th>6</th>\n",
              "      <td>105949</td>\n",
              "      <td>16-07-1997</td>\n",
              "      <td>Rptr had a total of 5 surgeries to repair visi...</td>\n",
              "      <td>NaN</td>\n",
              "    </tr>\n",
              "    <tr>\n",
              "      <th>7</th>\n",
              "      <td>106136</td>\n",
              "      <td>17-07-1997</td>\n",
              "      <td>Dr is using a non-approved laser machine.</td>\n",
              "      <td>NaN</td>\n",
              "    </tr>\n",
              "    <tr>\n",
              "      <th>8</th>\n",
              "      <td>106128</td>\n",
              "      <td>17-07-1997</td>\n",
              "      <td>Pt underwent phototherapeutic keratotomy. Afte...</td>\n",
              "      <td>NaN</td>\n",
              "    </tr>\n",
              "    <tr>\n",
              "      <th>9</th>\n",
              "      <td>134189</td>\n",
              "      <td>24-10-1997</td>\n",
              "      <td>Co is experiencing a number of pt eye injuries...</td>\n",
              "      <td>NaN</td>\n",
              "    </tr>\n",
              "  </tbody>\n",
              "</table>\n",
              "</div>\n",
              "      <button class=\"colab-df-convert\" onclick=\"convertToInteractive('df-3ccd7c8e-fce2-4861-8d26-e2100a0dfc72')\"\n",
              "              title=\"Convert this dataframe to an interactive table.\"\n",
              "              style=\"display:none;\">\n",
              "        \n",
              "  <svg xmlns=\"http://www.w3.org/2000/svg\" height=\"24px\"viewBox=\"0 0 24 24\"\n",
              "       width=\"24px\">\n",
              "    <path d=\"M0 0h24v24H0V0z\" fill=\"none\"/>\n",
              "    <path d=\"M18.56 5.44l.94 2.06.94-2.06 2.06-.94-2.06-.94-.94-2.06-.94 2.06-2.06.94zm-11 1L8.5 8.5l.94-2.06 2.06-.94-2.06-.94L8.5 2.5l-.94 2.06-2.06.94zm10 10l.94 2.06.94-2.06 2.06-.94-2.06-.94-.94-2.06-.94 2.06-2.06.94z\"/><path d=\"M17.41 7.96l-1.37-1.37c-.4-.4-.92-.59-1.43-.59-.52 0-1.04.2-1.43.59L10.3 9.45l-7.72 7.72c-.78.78-.78 2.05 0 2.83L4 21.41c.39.39.9.59 1.41.59.51 0 1.02-.2 1.41-.59l7.78-7.78 2.81-2.81c.8-.78.8-2.07 0-2.86zM5.41 20L4 18.59l7.72-7.72 1.47 1.35L5.41 20z\"/>\n",
              "  </svg>\n",
              "      </button>\n",
              "      \n",
              "  <style>\n",
              "    .colab-df-container {\n",
              "      display:flex;\n",
              "      flex-wrap:wrap;\n",
              "      gap: 12px;\n",
              "    }\n",
              "\n",
              "    .colab-df-convert {\n",
              "      background-color: #E8F0FE;\n",
              "      border: none;\n",
              "      border-radius: 50%;\n",
              "      cursor: pointer;\n",
              "      display: none;\n",
              "      fill: #1967D2;\n",
              "      height: 32px;\n",
              "      padding: 0 0 0 0;\n",
              "      width: 32px;\n",
              "    }\n",
              "\n",
              "    .colab-df-convert:hover {\n",
              "      background-color: #E2EBFA;\n",
              "      box-shadow: 0px 1px 2px rgba(60, 64, 67, 0.3), 0px 1px 3px 1px rgba(60, 64, 67, 0.15);\n",
              "      fill: #174EA6;\n",
              "    }\n",
              "\n",
              "    [theme=dark] .colab-df-convert {\n",
              "      background-color: #3B4455;\n",
              "      fill: #D2E3FC;\n",
              "    }\n",
              "\n",
              "    [theme=dark] .colab-df-convert:hover {\n",
              "      background-color: #434B5C;\n",
              "      box-shadow: 0px 1px 3px 1px rgba(0, 0, 0, 0.15);\n",
              "      filter: drop-shadow(0px 1px 2px rgba(0, 0, 0, 0.3));\n",
              "      fill: #FFFFFF;\n",
              "    }\n",
              "  </style>\n",
              "\n",
              "      <script>\n",
              "        const buttonEl =\n",
              "          document.querySelector('#df-3ccd7c8e-fce2-4861-8d26-e2100a0dfc72 button.colab-df-convert');\n",
              "        buttonEl.style.display =\n",
              "          google.colab.kernel.accessAllowed ? 'block' : 'none';\n",
              "\n",
              "        async function convertToInteractive(key) {\n",
              "          const element = document.querySelector('#df-3ccd7c8e-fce2-4861-8d26-e2100a0dfc72');\n",
              "          const dataTable =\n",
              "            await google.colab.kernel.invokeFunction('convertToInteractive',\n",
              "                                                     [key], {});\n",
              "          if (!dataTable) return;\n",
              "\n",
              "          const docLinkHtml = 'Like what you see? Visit the ' +\n",
              "            '<a target=\"_blank\" href=https://colab.research.google.com/notebooks/data_table.ipynb>data table notebook</a>'\n",
              "            + ' to learn more about interactive tables.';\n",
              "          element.innerHTML = '';\n",
              "          dataTable['output_type'] = 'display_data';\n",
              "          await google.colab.output.renderOutput(dataTable, element);\n",
              "          const docLink = document.createElement('div');\n",
              "          docLink.innerHTML = docLinkHtml;\n",
              "          element.appendChild(docLink);\n",
              "        }\n",
              "      </script>\n",
              "    </div>\n",
              "  </div>\n",
              "  "
            ]
          },
          "metadata": {},
          "execution_count": 3
        }
      ]
    },
    {
      "cell_type": "code",
      "source": [
        "#This command is used to retrieve the dimensions of the DataFrame \"df\".\n",
        "#It shows the number of rows and columns in the DataFrame.\n",
        "\n",
        "df.shape"
      ],
      "metadata": {
        "colab": {
          "base_uri": "https://localhost:8080/"
        },
        "id": "8qU0b_veU-6k",
        "outputId": "8aa55176-fd68-45a2-c991-9da81d0facbf"
      },
      "execution_count": null,
      "outputs": [
        {
          "output_type": "execute_result",
          "data": {
            "text/plain": [
              "(1368, 4)"
            ]
          },
          "metadata": {},
          "execution_count": 4
        }
      ]
    },
    {
      "cell_type": "markdown",
      "source": [
        "## **Statistical Analysis**"
      ],
      "metadata": {
        "id": "E-Ug4ER6bZ9S"
      }
    },
    {
      "cell_type": "code",
      "source": [
        "#This command is used to generate descriptive statistics of the DataFrame \"df\".\n",
        "\n",
        "df.describe()"
      ],
      "metadata": {
        "colab": {
          "base_uri": "https://localhost:8080/",
          "height": 300
        },
        "id": "3V1_v1NEbeXZ",
        "outputId": "b5a0f4a5-9d68-4f87-f451-67961b8d30f4"
      },
      "execution_count": null,
      "outputs": [
        {
          "output_type": "execute_result",
          "data": {
            "text/plain": [
              "                 id\n",
              "count  1.368000e+03\n",
              "mean   3.168478e+06\n",
              "std    2.530656e+06\n",
              "min    9.820900e+04\n",
              "25%    1.044653e+06\n",
              "50%    1.963885e+06\n",
              "75%    5.167768e+06\n",
              "max    9.119050e+06"
            ],
            "text/html": [
              "\n",
              "  <div id=\"df-b24116e8-db9c-4e79-96a6-bd01b8432fc6\">\n",
              "    <div class=\"colab-df-container\">\n",
              "      <div>\n",
              "<style scoped>\n",
              "    .dataframe tbody tr th:only-of-type {\n",
              "        vertical-align: middle;\n",
              "    }\n",
              "\n",
              "    .dataframe tbody tr th {\n",
              "        vertical-align: top;\n",
              "    }\n",
              "\n",
              "    .dataframe thead th {\n",
              "        text-align: right;\n",
              "    }\n",
              "</style>\n",
              "<table border=\"1\" class=\"dataframe\">\n",
              "  <thead>\n",
              "    <tr style=\"text-align: right;\">\n",
              "      <th></th>\n",
              "      <th>id</th>\n",
              "    </tr>\n",
              "  </thead>\n",
              "  <tbody>\n",
              "    <tr>\n",
              "      <th>count</th>\n",
              "      <td>1.368000e+03</td>\n",
              "    </tr>\n",
              "    <tr>\n",
              "      <th>mean</th>\n",
              "      <td>3.168478e+06</td>\n",
              "    </tr>\n",
              "    <tr>\n",
              "      <th>std</th>\n",
              "      <td>2.530656e+06</td>\n",
              "    </tr>\n",
              "    <tr>\n",
              "      <th>min</th>\n",
              "      <td>9.820900e+04</td>\n",
              "    </tr>\n",
              "    <tr>\n",
              "      <th>25%</th>\n",
              "      <td>1.044653e+06</td>\n",
              "    </tr>\n",
              "    <tr>\n",
              "      <th>50%</th>\n",
              "      <td>1.963885e+06</td>\n",
              "    </tr>\n",
              "    <tr>\n",
              "      <th>75%</th>\n",
              "      <td>5.167768e+06</td>\n",
              "    </tr>\n",
              "    <tr>\n",
              "      <th>max</th>\n",
              "      <td>9.119050e+06</td>\n",
              "    </tr>\n",
              "  </tbody>\n",
              "</table>\n",
              "</div>\n",
              "      <button class=\"colab-df-convert\" onclick=\"convertToInteractive('df-b24116e8-db9c-4e79-96a6-bd01b8432fc6')\"\n",
              "              title=\"Convert this dataframe to an interactive table.\"\n",
              "              style=\"display:none;\">\n",
              "        \n",
              "  <svg xmlns=\"http://www.w3.org/2000/svg\" height=\"24px\"viewBox=\"0 0 24 24\"\n",
              "       width=\"24px\">\n",
              "    <path d=\"M0 0h24v24H0V0z\" fill=\"none\"/>\n",
              "    <path d=\"M18.56 5.44l.94 2.06.94-2.06 2.06-.94-2.06-.94-.94-2.06-.94 2.06-2.06.94zm-11 1L8.5 8.5l.94-2.06 2.06-.94-2.06-.94L8.5 2.5l-.94 2.06-2.06.94zm10 10l.94 2.06.94-2.06 2.06-.94-2.06-.94-.94-2.06-.94 2.06-2.06.94z\"/><path d=\"M17.41 7.96l-1.37-1.37c-.4-.4-.92-.59-1.43-.59-.52 0-1.04.2-1.43.59L10.3 9.45l-7.72 7.72c-.78.78-.78 2.05 0 2.83L4 21.41c.39.39.9.59 1.41.59.51 0 1.02-.2 1.41-.59l7.78-7.78 2.81-2.81c.8-.78.8-2.07 0-2.86zM5.41 20L4 18.59l7.72-7.72 1.47 1.35L5.41 20z\"/>\n",
              "  </svg>\n",
              "      </button>\n",
              "      \n",
              "  <style>\n",
              "    .colab-df-container {\n",
              "      display:flex;\n",
              "      flex-wrap:wrap;\n",
              "      gap: 12px;\n",
              "    }\n",
              "\n",
              "    .colab-df-convert {\n",
              "      background-color: #E8F0FE;\n",
              "      border: none;\n",
              "      border-radius: 50%;\n",
              "      cursor: pointer;\n",
              "      display: none;\n",
              "      fill: #1967D2;\n",
              "      height: 32px;\n",
              "      padding: 0 0 0 0;\n",
              "      width: 32px;\n",
              "    }\n",
              "\n",
              "    .colab-df-convert:hover {\n",
              "      background-color: #E2EBFA;\n",
              "      box-shadow: 0px 1px 2px rgba(60, 64, 67, 0.3), 0px 1px 3px 1px rgba(60, 64, 67, 0.15);\n",
              "      fill: #174EA6;\n",
              "    }\n",
              "\n",
              "    [theme=dark] .colab-df-convert {\n",
              "      background-color: #3B4455;\n",
              "      fill: #D2E3FC;\n",
              "    }\n",
              "\n",
              "    [theme=dark] .colab-df-convert:hover {\n",
              "      background-color: #434B5C;\n",
              "      box-shadow: 0px 1px 3px 1px rgba(0, 0, 0, 0.15);\n",
              "      filter: drop-shadow(0px 1px 2px rgba(0, 0, 0, 0.3));\n",
              "      fill: #FFFFFF;\n",
              "    }\n",
              "  </style>\n",
              "\n",
              "      <script>\n",
              "        const buttonEl =\n",
              "          document.querySelector('#df-b24116e8-db9c-4e79-96a6-bd01b8432fc6 button.colab-df-convert');\n",
              "        buttonEl.style.display =\n",
              "          google.colab.kernel.accessAllowed ? 'block' : 'none';\n",
              "\n",
              "        async function convertToInteractive(key) {\n",
              "          const element = document.querySelector('#df-b24116e8-db9c-4e79-96a6-bd01b8432fc6');\n",
              "          const dataTable =\n",
              "            await google.colab.kernel.invokeFunction('convertToInteractive',\n",
              "                                                     [key], {});\n",
              "          if (!dataTable) return;\n",
              "\n",
              "          const docLinkHtml = 'Like what you see? Visit the ' +\n",
              "            '<a target=\"_blank\" href=https://colab.research.google.com/notebooks/data_table.ipynb>data table notebook</a>'\n",
              "            + ' to learn more about interactive tables.';\n",
              "          element.innerHTML = '';\n",
              "          dataTable['output_type'] = 'display_data';\n",
              "          await google.colab.output.renderOutput(dataTable, element);\n",
              "          const docLink = document.createElement('div');\n",
              "          docLink.innerHTML = docLinkHtml;\n",
              "          element.appendChild(docLink);\n",
              "        }\n",
              "      </script>\n",
              "    </div>\n",
              "  </div>\n",
              "  "
            ]
          },
          "metadata": {},
          "execution_count": 5
        }
      ]
    },
    {
      "cell_type": "markdown",
      "source": [
        "## **Counting the number of incidents per keyword**"
      ],
      "metadata": {
        "id": "3jsBZ74hbiHD"
      }
    },
    {
      "cell_type": "code",
      "source": [
        "#This code performs a series of operations on the \"keywords\" column of the DataFrame \"df\".\n",
        "\n",
        "keyword_counts = df['keywords'].str.split('; ').explode().value_counts()"
      ],
      "metadata": {
        "id": "zceU5ftibpdg"
      },
      "execution_count": null,
      "outputs": []
    },
    {
      "cell_type": "markdown",
      "source": [
        "**Bar Chart**"
      ],
      "metadata": {
        "id": "oBXkDUcvb3KA"
      }
    },
    {
      "cell_type": "code",
      "source": [
        "#The below provided code is using matplotlib to create a bar plot based on the keyword_counts Series.\n",
        "#Creating a bar plot using the x-values and the y-values.\n",
        "#The label for the x-axis as \"Keywords\".\n",
        "#The label for the y-axis as \"Number of Incidents\".\n",
        "#The title of the plot as \"Number of Incidents per Keyword\".\n",
        "\n",
        "\n",
        "plt.bar(keyword_counts.index, keyword_counts.values)\n",
        "plt.xlabel('Keywords')\n",
        "plt.ylabel('Number of Incidents')\n",
        "plt.title('Number of Incidents per Keyword')\n",
        "plt.xticks(rotation=45)\n",
        "plt.show()"
      ],
      "metadata": {
        "colab": {
          "base_uri": "https://localhost:8080/",
          "height": 546
        },
        "id": "mS9xZHzGb8SQ",
        "outputId": "f03ce220-d193-4611-e505-1c8dd5c2df44"
      },
      "execution_count": null,
      "outputs": [
        {
          "output_type": "display_data",
          "data": {
            "text/plain": [
              "<Figure size 640x480 with 1 Axes>"
            ],
            "image/png": "[encoded data removed]"
          },
          "metadata": {}
        }
      ]
    },
    {
      "cell_type": "markdown",
      "source": [
        "**Converting the date column to datetime format**"
      ],
      "metadata": {
        "id": "XAAP1EvjcTCw"
      }
    },
    {
      "cell_type": "code",
      "source": [
        "#The code converts the values in the \"date\" column of the DataFrame \"df\"\n",
        "#from a string format to a datetime format using the specified format string.\n",
        "\n",
        "df['date'] = pd.to_datetime(df['date'], format='%d-%m-%Y')"
      ],
      "metadata": {
        "id": "zo-QlGC5caKQ"
      },
      "execution_count": null,
      "outputs": []
    },
    {
      "cell_type": "markdown",
      "source": [
        "**Counting the number of incidents per date**"
      ],
      "metadata": {
        "id": "7eVuVpISceh4"
      }
    },
    {
      "cell_type": "code",
      "source": [
        "#The code groups the DataFrame \"df\" by the \"date\" column\n",
        "#and then calculates the size (count) of incidents for each unique date.\n",
        "\n",
        "incident_counts = df.groupby('date').size()"
      ],
      "metadata": {
        "id": "eupSQp27ckVA"
      },
      "execution_count": null,
      "outputs": []
    },
    {
      "cell_type": "markdown",
      "source": [
        "**Line chart**"
      ],
      "metadata": {
        "id": "VU6xKbOGcnYg"
      }
    },
    {
      "cell_type": "code",
      "source": [
        "#The below provided code uses matplotlib to create a line plot based on the \"incident_counts\" series.\n",
        "#Creating a line plot using the dates as the x-values and the number of incidents as the y-values.\n",
        "#The label for the x-axis as \"Date\".\n",
        "#The label for the y-axis as \"Number of Incidents\".\n",
        "#The title of the plot as \"Number of Incidents over Time\".\n",
        " \n",
        "\n",
        "plt.plot(incident_counts.index, incident_counts.values)\n",
        "plt.xlabel('Date')\n",
        "plt.ylabel('Number of Incidents')\n",
        "plt.title('Number of Incidents over Time')\n",
        "plt.xticks(rotation=45)\n",
        "plt.show()"
      ],
      "metadata": {
        "colab": {
          "base_uri": "https://localhost:8080/",
          "height": 493
        },
        "id": "Dxx6k4mLcqCM",
        "outputId": "5cd23bab-d79b-4a37-a44a-5def419fd019"
      },
      "execution_count": null,
      "outputs": [
        {
          "output_type": "display_data",
          "data": {
            "text/plain": [
              "<Figure size 640x480 with 1 Axes>"
            ],
            "image/png": "[encoded data removed]"
          },
          "metadata": {}
        }
      ]
    },
    {
      "cell_type": "markdown",
      "source": [
        "**Generating random values for the x-axis**"
      ],
      "metadata": {
        "id": "1ieMyiYLcwO1"
      }
    },
    {
      "cell_type": "code",
      "source": [
        "#The below code creates a range of values that corresponds to the length of the DataFrame \"df\". \n",
        "\n",
        "x_values = range(len(df))"
      ],
      "metadata": {
        "id": "DLdb7jdgc4tQ"
      },
      "execution_count": null,
      "outputs": []
    },
    {
      "cell_type": "markdown",
      "source": [
        "**Extracting the day of the month from the date column**"
      ],
      "metadata": {
        "id": "mAVCjlwIc9Eg"
      }
    },
    {
      "cell_type": "code",
      "source": [
        "#The below code creates a new column \"day\" in the DataFrame \"df\".\n",
        "#It extracts the day component from the \"date\" column, which is converted to a datetime format.\n",
        "\n",
        "df['day'] = pd.to_datetime(df['date']).dt.day"
      ],
      "metadata": {
        "id": "xWSit1K4dA6v"
      },
      "execution_count": null,
      "outputs": []
    },
    {
      "cell_type": "markdown",
      "source": [
        "**Box plot**"
      ],
      "metadata": {
        "id": "9WpN88B0dDk8"
      }
    },
    {
      "cell_type": "code",
      "source": [
        "#The below code provided matplotlib to create a boxplot based on the \"day\" column of the DataFrame \"df\".\n",
        "#Creating a boxplot using the values in the \"day\" column of the DataFrame \"df\".\n",
        "#The label for the x-axis as \"Day\".\n",
        "#The label for the y-axis as \"Incident Date\".\n",
        "#The title of the plot as \"Distribution of Incident Dates\".\n",
        "\n",
        "plt.boxplot(df['day'])\n",
        "plt.xlabel('Day')\n",
        "plt.ylabel('Incident Date')\n",
        "plt.title('Distribution of Incident Dates')\n",
        "plt.show()"
      ],
      "metadata": {
        "colab": {
          "base_uri": "https://localhost:8080/",
          "height": 472
        },
        "id": "0z3XmnAOdF4B",
        "outputId": "93d980d4-43d3-4446-fdef-2653619fad6a"
      },
      "execution_count": null,
      "outputs": [
        {
          "output_type": "display_data",
          "data": {
            "text/plain": [
              "<Figure size 640x480 with 1 Axes>"
            ],
            "image/png": "[encoded data removed]"
          },
          "metadata": {}
        }
      ]
    },
    {
      "cell_type": "code",
      "source": [
        "#importing additional libraries for creating statistical visualizations and flattening the input.\n",
        "\n",
        "import seaborn as sns\n",
        "from keras.layers import Flatten"
      ],
      "metadata": {
        "id": "G3SrY1XPdKnB"
      },
      "execution_count": null,
      "outputs": []
    },
    {
      "cell_type": "markdown",
      "source": [
        "**Counting the number of incidents per keyword**"
      ],
      "metadata": {
        "id": "erqFhFZyhL9i"
      }
    },
    {
      "cell_type": "code",
      "source": [
        "#The below code splits the values in the \"keywords\" column based on the delimiter '; '.\n",
        "#This creates a new column where each value is a list of keywords.\n",
        "\n",
        "keyword_counts = df['keywords'].str.split('; ').explode().value_counts().reset_index()"
      ],
      "metadata": {
        "id": "-L2Q9gekhQtw"
      },
      "execution_count": null,
      "outputs": []
    },
    {
      "cell_type": "markdown",
      "source": [
        "**Renaming the columns**"
      ],
      "metadata": {
        "id": "nHq-ZuEPhTlA"
      }
    },
    {
      "cell_type": "code",
      "source": [
        "#The below code renames the columns of the DataFrame \"keyword_counts\" to \"Keyword\" and \"Count\" respectively.\n",
        "\n",
        "keyword_counts.columns = ['Keyword', 'Count']"
      ],
      "metadata": {
        "id": "95XFmenzhYD5"
      },
      "execution_count": null,
      "outputs": []
    },
    {
      "cell_type": "markdown",
      "source": [
        "**Counting Plot**"
      ],
      "metadata": {
        "id": "Y35BGwfUha_J"
      }
    },
    {
      "cell_type": "code",
      "source": [
        "#Sets the style of seaborn plots to \"darkgrid\".\n",
        "#This adjusts the aesthetic style of the plot to have a dark background grid.\n",
        "#Creating a bar plot using the x-values and the y-values from the \"keyword_counts\" DataFrame.\n",
        "#The label for the x-axis as \"Number of Incidents\".\n",
        "#The label for the y-axis as \"Keywords\".\n",
        "#The title of the plot as \"Count of Incidents per Keyword\".\n",
        "\n",
        "sns.set(style=\"darkgrid\")\n",
        "sns.barplot(x='Count', y='Keyword', data=keyword_counts)\n",
        "plt.xlabel('Number of Incidents')\n",
        "plt.ylabel('Keywords')\n",
        "plt.title('Count of Incidents per Keyword')\n",
        "plt.show()"
      ],
      "metadata": {
        "colab": {
          "base_uri": "https://localhost:8080/",
          "height": 480
        },
        "id": "EucBfsjlhfey",
        "outputId": "e617d562-80cc-4bbc-ee5d-af1654cc5748"
      },
      "execution_count": null,
      "outputs": [
        {
          "output_type": "display_data",
          "data": {
            "text/plain": [
              "<Figure size 640x480 with 1 Axes>"
            ],
            "image/png": "[encoded data removed]"
          },
          "metadata": {}
        }
      ]
    },
    {
      "cell_type": "markdown",
      "source": [
        "**Filter instances with keywords**"
      ],
      "metadata": {
        "id": "jlEJVZiMhlzw"
      }
    },
    {
      "cell_type": "code",
      "source": [
        "#The below code creates a new DataFrame called \"df_filtered\" by removing rows with missing values.\n",
        "#The resulting DataFrame is then reset to have a new index starting from 0.\n",
        "\n",
        "df_filtered = df.dropna(subset=['keywords']).reset_index(drop=True)"
      ],
      "metadata": {
        "id": "vbfwjKbnhpSw"
      },
      "execution_count": null,
      "outputs": []
    },
    {
      "cell_type": "markdown",
      "source": [
        "**Assigning labels based on the presence or absence of keywords**"
      ],
      "metadata": {
        "id": "orcRjEXRhsmw"
      }
    },
    {
      "cell_type": "code",
      "source": [
        "#The below code adds a new column called 'label' to the DataFrame. \n",
        "\n",
        "df_filtered['label'] = df_filtered['keywords'].apply(lambda x: 1 if x else 0)"
      ],
      "metadata": {
        "id": "CkYPmfQAhxAI"
      },
      "execution_count": null,
      "outputs": []
    },
    {
      "cell_type": "markdown",
      "source": [
        "**Spliting**"
      ],
      "metadata": {
        "id": "11YqyctShzgR"
      }
    },
    {
      "cell_type": "code",
      "source": [
        "#The below code splits the data into training and testing sets for text data and corresponding labels.\n",
        "\n",
        "train_texts, test_texts, train_labels, test_labels = train_test_split(df_filtered['text'],\n",
        "df_filtered['label'],test_size=0.2, random_state=42)"
      ],
      "metadata": {
        "id": "ycFeI2kUh35p"
      },
      "execution_count": null,
      "outputs": []
    },
    {
      "cell_type": "markdown",
      "source": [
        "**Tokenizing the texts**"
      ],
      "metadata": {
        "id": "XptfX2rfiAMj"
      }
    },
    {
      "cell_type": "code",
      "source": [
        "#The tokenizer class from TensorFlow's Keras library to tokenize the text data and convert it into sequences.\n",
        "\n",
        "tokenizer = Tokenizer()\n",
        "tokenizer.fit_on_texts(train_texts)\n",
        "train_sequences = tokenizer.texts_to_sequences(train_texts)\n",
        "test_sequences = tokenizer.texts_to_sequences(test_texts)"
      ],
      "metadata": {
        "id": "6xwTZiHgiD1W"
      },
      "execution_count": null,
      "outputs": []
    },
    {
      "cell_type": "markdown",
      "source": [
        "**Pad the sequences**"
      ],
      "metadata": {
        "id": "GmDSvPs0iG6-"
      }
    },
    {
      "cell_type": "code",
      "source": [
        "#The below code calculates the maximum sequence length among all sequences in the training and testing data.\n",
        "#Then performs padding on the sequences to make them of equal length. \n",
        "\n",
        "max_sequence_length = max(max(len(seq) for seq in train_sequences), max(len(seq) for seq in test_sequences))\n",
        "train_data = pad_sequences(train_sequences, maxlen=max_sequence_length)\n",
        "test_data = pad_sequences(test_sequences, maxlen=max_sequence_length)"
      ],
      "metadata": {
        "id": "ut5bYrE5iKuu"
      },
      "execution_count": null,
      "outputs": []
    },
    {
      "cell_type": "markdown",
      "source": [
        "# **CNN**\n",
        "**Defining the CNN model**"
      ],
      "metadata": {
        "id": "K4T_oMICiPWt"
      }
    },
    {
      "cell_type": "code",
      "source": [
        "#Creating a sequential model, which is a linear stack of layers.\n",
        "#Adding an Embedding layer to the model.\n",
        "#Adding a 1D Convolutional layer to the model.\n",
        "#Adding a MaxPooling layer to the model.\n",
        "#Adding a Flatten layer to the model.\n",
        "#Adding a fully connected Dense layer with 64 units and ReLU activation.\n",
        "#Adding the output Dense layer with a single unit and sigmoid activation.\n",
        "#Finally compiling the model.   \n",
        "\n",
        "cnn_model = Sequential()\n",
        "cnn_model.add(Embedding(input_dim=len(tokenizer.word_index) + 1, output_dim=100, input_length=max_sequence_length))\n",
        "cnn_model.add(Conv1D(filters=128, kernel_size=3, activation='relu'))\n",
        "cnn_model.add(MaxPooling1D(pool_size=2))\n",
        "cnn_model.add(Flatten())\n",
        "cnn_model.add(Dense(units=64, activation='relu'))\n",
        "cnn_model.add(Dense(units=1, activation='sigmoid'))\n",
        "cnn_model.compile(loss='binary_crossentropy', optimizer='adam', metrics=['accuracy'])"
      ],
      "metadata": {
        "id": "GJ6C7sm1iXn6"
      },
      "execution_count": null,
      "outputs": []
    },
    {
      "cell_type": "markdown",
      "source": [
        "**Train the CNN model**"
      ],
      "metadata": {
        "id": "KLxRyJv6j3NP"
      }
    },
    {
      "cell_type": "code",
      "source": [
        "#The below code trains the CNN model using the training data and corresponding labels.\n",
        "\n",
        "cnn_model.fit(train_data, train_labels, epochs=10, batch_size=16, validation_data=(test_data, test_labels))"
      ],
      "metadata": {
        "colab": {
          "base_uri": "https://localhost:8080/"
        },
        "id": "9C3zHCo4j6St",
        "outputId": "c6e5d876-13a0-4958-fcf9-f7bbdac2fdff"
      },
      "execution_count": null,
      "outputs": [
        {
          "output_type": "stream",
          "name": "stdout",
          "text": [
            "Epoch 1/10\n",
            "57/57 [==============================] - 16s 249ms/step - loss: 0.0128 - accuracy: 0.9945 - val_loss: 1.3550e-23 - val_accuracy: 1.0000\n",
            "Epoch 2/10\n",
            "57/57 [==============================] - 14s 240ms/step - loss: 8.7348e-21 - accuracy: 1.0000 - val_loss: 1.0526e-23 - val_accuracy: 1.0000\n",
            "Epoch 3/10\n",
            "57/57 [==============================] - 14s 242ms/step - loss: 8.6802e-21 - accuracy: 1.0000 - val_loss: 1.0518e-23 - val_accuracy: 1.0000\n",
            "Epoch 4/10\n",
            "57/57 [==============================] - 16s 275ms/step - loss: 8.6801e-21 - accuracy: 1.0000 - val_loss: 1.0518e-23 - val_accuracy: 1.0000\n",
            "Epoch 5/10\n",
            "57/57 [==============================] - 21s 370ms/step - loss: 8.6801e-21 - accuracy: 1.0000 - val_loss: 1.0518e-23 - val_accuracy: 1.0000\n",
            "Epoch 6/10\n",
            "57/57 [==============================] - 15s 261ms/step - loss: 8.6801e-21 - accuracy: 1.0000 - val_loss: 1.0518e-23 - val_accuracy: 1.0000\n",
            "Epoch 7/10\n",
            "57/57 [==============================] - 14s 243ms/step - loss: 8.6801e-21 - accuracy: 1.0000 - val_loss: 1.0518e-23 - val_accuracy: 1.0000\n",
            "Epoch 8/10\n",
            "57/57 [==============================] - 17s 304ms/step - loss: 8.6801e-21 - accuracy: 1.0000 - val_loss: 1.0518e-23 - val_accuracy: 1.0000\n",
            "Epoch 9/10\n",
            "57/57 [==============================] - 14s 255ms/step - loss: 8.6801e-21 - accuracy: 1.0000 - val_loss: 1.0518e-23 - val_accuracy: 1.0000\n",
            "Epoch 10/10\n",
            "57/57 [==============================] - 15s 257ms/step - loss: 8.6801e-21 - accuracy: 1.0000 - val_loss: 1.0518e-23 - val_accuracy: 1.0000\n"
          ]
        },
        {
          "output_type": "execute_result",
          "data": {
            "text/plain": [
              "<keras.callbacks.History at 0x7f291f532470>"
            ]
          },
          "metadata": {},
          "execution_count": 37
        }
      ]
    },
    {
      "cell_type": "markdown",
      "source": [
        "# **LSTM**\n",
        "**Defining the LSTM model**"
      ],
      "metadata": {
        "id": "Q9QAOD6okHx5"
      }
    },
    {
      "cell_type": "code",
      "source": [
        "#Creating a sequential model.\n",
        "#Adding an Embedding layer to the model, similar to the CNN model.\n",
        "#Adding an LSTM layer to the model.\n",
        "#Adding a Dense layer to the model with a single unit and sigmoid activation.\n",
        "#Finaly, compiling the model similar to the CNN model. \n",
        "\n",
        "lstm_model = Sequential()\n",
        "lstm_model.add(Embedding(input_dim=len(tokenizer.word_index) + 1, output_dim=100, input_length=max_sequence_length))\n",
        "lstm_model.add(LSTM(units=128))\n",
        "lstm_model.add(Dense(units=1, activation='sigmoid'))\n",
        "lstm_model.compile(loss='binary_crossentropy', optimizer='adam', metrics=['accuracy'])"
      ],
      "metadata": {
        "id": "lvFOE8P7kWDU"
      },
      "execution_count": null,
      "outputs": []
    },
    {
      "cell_type": "markdown",
      "source": [
        "**Training the LSTM model**"
      ],
      "metadata": {
        "id": "CDf-sOrKkX9M"
      }
    },
    {
      "cell_type": "code",
      "source": [
        "#The below code trains the LSTM model using the training data and corresponding labels. \n",
        "\n",
        "lstm_model.fit(train_data, train_labels, epochs=10, batch_size=16, validation_data=(test_data, test_labels))"
      ],
      "metadata": {
        "colab": {
          "base_uri": "https://localhost:8080/"
        },
        "id": "DXpO4EKckc8u",
        "outputId": "aebdc880-4633-44de-b135-6d8387c9eb3e"
      },
      "execution_count": null,
      "outputs": [
        {
          "output_type": "stream",
          "name": "stdout",
          "text": [
            "Epoch 1/10\n",
            "57/57 [==============================] - 100s 2s/step - loss: 0.1007 - accuracy: 0.9901 - val_loss: 5.1839e-05 - val_accuracy: 1.0000\n",
            "Epoch 2/10\n",
            "57/57 [==============================] - 89s 2s/step - loss: 4.1892e-05 - accuracy: 1.0000 - val_loss: 3.4842e-05 - val_accuracy: 1.0000\n",
            "Epoch 3/10\n",
            "57/57 [==============================] - 87s 2s/step - loss: 3.0343e-05 - accuracy: 1.0000 - val_loss: 2.6281e-05 - val_accuracy: 1.0000\n",
            "Epoch 4/10\n",
            "57/57 [==============================] - 88s 2s/step - loss: 2.3365e-05 - accuracy: 1.0000 - val_loss: 2.0684e-05 - val_accuracy: 1.0000\n",
            "Epoch 5/10\n",
            "57/57 [==============================] - 87s 2s/step - loss: 1.8691e-05 - accuracy: 1.0000 - val_loss: 1.6829e-05 - val_accuracy: 1.0000\n",
            "Epoch 6/10\n",
            "57/57 [==============================] - 87s 2s/step - loss: 1.5403e-05 - accuracy: 1.0000 - val_loss: 1.4051e-05 - val_accuracy: 1.0000\n",
            "Epoch 7/10\n",
            "57/57 [==============================] - 88s 2s/step - loss: 1.2989e-05 - accuracy: 1.0000 - val_loss: 1.1971e-05 - val_accuracy: 1.0000\n",
            "Epoch 8/10\n",
            "57/57 [==============================] - 88s 2s/step - loss: 1.1154e-05 - accuracy: 1.0000 - val_loss: 1.0365e-05 - val_accuracy: 1.0000\n",
            "Epoch 9/10\n",
            "57/57 [==============================] - 87s 2s/step - loss: 9.7200e-06 - accuracy: 1.0000 - val_loss: 9.0921e-06 - val_accuracy: 1.0000\n",
            "Epoch 10/10\n",
            "57/57 [==============================] - 86s 2s/step - loss: 8.5718e-06 - accuracy: 1.0000 - val_loss: 8.0621e-06 - val_accuracy: 1.0000\n"
          ]
        },
        {
          "output_type": "execute_result",
          "data": {
            "text/plain": [
              "<keras.callbacks.History at 0x7f290aac2a40>"
            ]
          },
          "metadata": {},
          "execution_count": 40
        }
      ]
    },
    {
      "cell_type": "markdown",
      "source": [
        "**Evaluating the models on the test set**"
      ],
      "metadata": {
        "id": "gXz2xL7Ektu8"
      }
    },
    {
      "cell_type": "code",
      "source": [
        "#The below code evaluates the performance of the CNN model and LSTM model on the test data.\n",
        "\n",
        "cnn_loss, cnn_accuracy = cnn_model.evaluate(test_data, test_labels)\n",
        "lstm_loss, lstm_accuracy = lstm_model.evaluate(test_data, test_labels)"
      ],
      "metadata": {
        "colab": {
          "base_uri": "https://localhost:8080/"
        },
        "id": "y4TYUISokyLL",
        "outputId": "6d5306c9-beb3-477d-ee68-219fb2580a7a"
      },
      "execution_count": null,
      "outputs": [
        {
          "output_type": "stream",
          "name": "stdout",
          "text": [
            "8/8 [==============================] - 1s 80ms/step - loss: 1.0518e-23 - accuracy: 1.0000\n",
            "8/8 [==============================] - 5s 678ms/step - loss: 8.0621e-06 - accuracy: 1.0000\n"
          ]
        }
      ]
    },
    {
      "cell_type": "markdown",
      "source": [
        "**Creating a comparison plot**"
      ],
      "metadata": {
        "id": "o6K7gCJYlhb7"
      }
    },
    {
      "cell_type": "code",
      "source": [
        "#The below code provided plots a bar chart to compare the accuracy of the CNN and LSTM models.\n",
        "#Creating a bar chart using the bar function from \"matplotlib.pyplot\".\n",
        "#Sets the x-axis label to \"Model\".\n",
        "#Sets the y-axis label to \"Accuracy\".\n",
        "#The title of the plot to \"Comparison of CNN and LSTM Models\".\n",
        "#Seting the limits of the y-axis to be between 0 and 1 to ensure the accuracy values within the plot. \n",
        "\n",
        "plt.bar(['CNN', 'LSTM'], [cnn_accuracy, lstm_accuracy])\n",
        "plt.xlabel('Model')\n",
        "plt.ylabel('Accuracy')\n",
        "plt.title('Comparison of CNN and LSTM Models')\n",
        "plt.ylim([0, 1])\n",
        "plt.show()"
      ],
      "metadata": {
        "colab": {
          "base_uri": "https://localhost:8080/",
          "height": 480
        },
        "id": "2pP2Bv1BlkzN",
        "outputId": "11d5781d-d4b5-454f-ff73-9ae0bb7b1012"
      },
      "execution_count": null,
      "outputs": [
        {
          "output_type": "display_data",
          "data": {
            "text/plain": [
              "<Figure size 640x480 with 1 Axes>"
            ],
            "image/png": "[encoded data removed]"
          },
          "metadata": {}
        }
      ]
    }
  ]
}